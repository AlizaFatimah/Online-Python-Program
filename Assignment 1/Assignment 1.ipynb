{
 "cells": [
  {
   "cell_type": "raw",
   "id": "8e41277b",
   "metadata": {},
   "source": [
    "# QUESTION 1\n",
    "# write a program to print a specific format"
   ]
  },
  {
   "cell_type": "code",
   "execution_count": 3,
   "id": "89010f4f",
   "metadata": {},
   "outputs": [
    {
     "name": "stdout",
     "output_type": "stream",
     "text": [
      "Twinkle, twinkle, little star, \n",
      "\tHow I wonder what you are! \n",
      "\t\tUp above the world so high, \n",
      "\t\tLike a diamond in the sky. \n",
      "Twinkle, twinkle, little star, \n",
      "\tHow I wonder what you are!\n"
     ]
    }
   ],
   "source": [
    "print(\"Twinkle, twinkle, little star, \\n\\tHow I wonder what you are! \\n\\t\\tUp above the world so high, \\n\\t\\tLike a diamond in the sky. \\nTwinkle, twinkle, little star, \\n\\tHow I wonder what you are!\")\n"
   ]
  },
  {
   "cell_type": "raw",
   "id": "3f188732",
   "metadata": {},
   "source": [
    "# QUESTION 2\n",
    "# Write a python program to get the python version you are using"
   ]
  },
  {
   "cell_type": "code",
   "execution_count": 34,
   "id": "88aa6abd",
   "metadata": {},
   "outputs": [],
   "source": [
    "import sys"
   ]
  },
  {
   "cell_type": "code",
   "execution_count": 35,
   "id": "560f7da9",
   "metadata": {},
   "outputs": [
    {
     "name": "stdout",
     "output_type": "stream",
     "text": [
      "Python version\n",
      "3.8.8 (default, Apr 13 2021, 15:08:03) [MSC v.1916 64 bit (AMD64)]\n",
      "Version info.\n",
      "sys.version_info(major=3, minor=8, micro=8, releaselevel='final', serial=0)\n"
     ]
    }
   ],
   "source": [
    "print(\"Python version\")\n",
    "print(sys.version)\n",
    "print(\"Version info.\")\n",
    "print(sys.version_info)"
   ]
  },
  {
   "cell_type": "raw",
   "id": "33c91b72",
   "metadata": {},
   "source": [
    "# QUESTION 3\n",
    "# Write a python program to display a current date and time"
   ]
  },
  {
   "cell_type": "code",
   "execution_count": 36,
   "id": "f1dac904",
   "metadata": {},
   "outputs": [],
   "source": [
    "from datetime import datetime"
   ]
  },
  {
   "cell_type": "code",
   "execution_count": 37,
   "id": "e461e45a",
   "metadata": {},
   "outputs": [
    {
     "name": "stdout",
     "output_type": "stream",
     "text": [
      "2021-12-29 12:09:51\n"
     ]
    }
   ],
   "source": [
    "now = datetime.now()\n",
    "print(now.strftime(\"%Y-%m-%d %H:%M:%S\"))"
   ]
  },
  {
   "cell_type": "raw",
   "id": "237c2c96",
   "metadata": {},
   "source": [
    "# QUESTION 4\n",
    "# Write a python program which accepts the radius of a circle from the user and compute the area."
   ]
  },
  {
   "cell_type": "code",
   "execution_count": 38,
   "id": "2c34a1f8",
   "metadata": {},
   "outputs": [],
   "source": [
    "from math import pi"
   ]
  },
  {
   "cell_type": "code",
   "execution_count": 39,
   "id": "73d6ca8a",
   "metadata": {},
   "outputs": [
    {
     "name": "stdout",
     "output_type": "stream",
     "text": [
      "Input the radius of a circle : 2\n",
      "The area of a circle with radius 2.0 is: 12.566370614359172\n"
     ]
    }
   ],
   "source": [
    "r = float(input(\"Input the radius of a circle : \"))\n",
    "print(\"The area of a circle with radius \" +str(r) + \" is: \" + str(pi * r**2))\n",
    "      "
   ]
  },
  {
   "cell_type": "raw",
   "id": "c5ed82dc",
   "metadata": {},
   "source": [
    "# QUESTION 5\n",
    "# Write a python program which accepts the user's first and last name and print them in a reserve order with a space between them"
   ]
  },
  {
   "cell_type": "code",
   "execution_count": 40,
   "id": "2d159b34",
   "metadata": {},
   "outputs": [
    {
     "name": "stdout",
     "output_type": "stream",
     "text": [
      "Input Your First Name: Aliza\n",
      "Input your Last Name: Fatimah\n",
      "This is Fatimah Aliza\n"
     ]
    }
   ],
   "source": [
    "firstname = input(\"Input Your First Name: \")\n",
    "lastname = input(\"Input your Last Name: \")\n",
    "print(\"This is \"  +lastname+  \" \" +firstname)"
   ]
  },
  {
   "cell_type": "raw",
   "id": "387a1562",
   "metadata": {},
   "source": [
    "# QUESTION 6\n",
    "# write a program which takes two input from user and print them addition"
   ]
  },
  {
   "cell_type": "code",
   "execution_count": 41,
   "id": "bd885121",
   "metadata": {},
   "outputs": [
    {
     "name": "stdout",
     "output_type": "stream",
     "text": [
      "Input First Number: 2\n",
      "Input Second Number: 2\n",
      "4.0\n"
     ]
    }
   ],
   "source": [
    "Num1 = float(input(\"Input First Number: \" ))\n",
    "Num2 = float(input(\"Input Second Number: \"))\n",
    "Sum = Num1+Num2\n",
    "print( Sum)"
   ]
  },
  {
   "cell_type": "code",
   "execution_count": null,
   "id": "b14cb533",
   "metadata": {},
   "outputs": [],
   "source": []
  }
 ],
 "metadata": {
  "kernelspec": {
   "display_name": "Python 3",
   "language": "python",
   "name": "python3"
  },
  "language_info": {
   "codemirror_mode": {
    "name": "ipython",
    "version": 3
   },
   "file_extension": ".py",
   "mimetype": "text/x-python",
   "name": "python",
   "nbconvert_exporter": "python",
   "pygments_lexer": "ipython3",
   "version": "3.8.8"
  }
 },
 "nbformat": 4,
 "nbformat_minor": 5
}
